{
 "cells": [
  {
   "cell_type": "markdown",
   "id": "d0855902",
   "metadata": {},
   "source": [
    "Q1. What exactly is []?"
   ]
  },
  {
   "cell_type": "code",
   "execution_count": null,
   "id": "680a8e6b",
   "metadata": {},
   "outputs": [],
   "source": [
    "square bracket is used to create a list datatype in python programming."
   ]
  },
  {
   "cell_type": "markdown",
   "id": "45e5e09a",
   "metadata": {},
   "source": [
    "Q2. In a list of values stored in a variable called spam, how would you assign the value &#39;hello&#39; as the\n",
    "third value? (Assume [2, 4, 6, 8, 10] are in spam.)"
   ]
  },
  {
   "cell_type": "code",
   "execution_count": null,
   "id": "41431179",
   "metadata": {},
   "outputs": [],
   "source": [
    "we can use insert(index,value) method of list class to assign the value 'hello' as third value."
   ]
  },
  {
   "cell_type": "markdown",
   "id": "5940234c",
   "metadata": {},
   "source": [
    "Let's pretend the spam includes the list ['a','b','c','d'] for the next three queries.\n",
    "\n",
    "Q3. What is the value of spam[int(int('3' * 2) / 11)]?"
   ]
  },
  {
   "cell_type": "code",
   "execution_count": null,
   "id": "0909f700",
   "metadata": {},
   "outputs": [],
   "source": [
    "'d'"
   ]
  },
  {
   "cell_type": "markdown",
   "id": "f4083568",
   "metadata": {},
   "source": [
    "Q4. What is the value of spam[-1]?"
   ]
  },
  {
   "cell_type": "code",
   "execution_count": null,
   "id": "2fab70a6",
   "metadata": {},
   "outputs": [],
   "source": [
    "'d'"
   ]
  },
  {
   "cell_type": "markdown",
   "id": "0b193888",
   "metadata": {},
   "source": [
    "Q5. What is the value of spam[:2]?"
   ]
  },
  {
   "cell_type": "code",
   "execution_count": null,
   "id": "dc2e1d64",
   "metadata": {},
   "outputs": [],
   "source": [
    "['a','b']"
   ]
  },
  {
   "cell_type": "markdown",
   "id": "ee7bb7b9",
   "metadata": {},
   "source": [
    "Let's pretend bacon has the list [3.14,'cat',11,'cat', True] for the next three questions.\n",
    "\n",
    "Q6. What is the value of bacon.index('cat')?"
   ]
  },
  {
   "cell_type": "code",
   "execution_count": null,
   "id": "1bd01e49",
   "metadata": {},
   "outputs": [],
   "source": [
    "1, index() method returns first index of the value."
   ]
  },
  {
   "cell_type": "markdown",
   "id": "e98c42e7",
   "metadata": {},
   "source": [
    "Q7. How does bacon.append(99) change the look of the list value in bacon?"
   ]
  },
  {
   "cell_type": "code",
   "execution_count": null,
   "id": "d1dd8c87",
   "metadata": {},
   "outputs": [],
   "source": [
    "append() method will add the value in the last position of the list.\n",
    "\n",
    "[3.14,'cat',11,'cat', True,99]"
   ]
  },
  {
   "cell_type": "markdown",
   "id": "59efbad1",
   "metadata": {},
   "source": [
    "Q8. How does bacon.remove('cat') change the look of the list in bacon?"
   ]
  },
  {
   "cell_type": "code",
   "execution_count": null,
   "id": "b261c0e9",
   "metadata": {},
   "outputs": [],
   "source": [
    "remove() method will remove the value from the list. in this case, 'cat' with first occurance index will be removed from the list.\n",
    "\n",
    "[3.14,11,'cat', True,99]"
   ]
  },
  {
   "cell_type": "markdown",
   "id": "5518160b",
   "metadata": {},
   "source": [
    "Q9. What are the list concatenation and list replication operators?"
   ]
  },
  {
   "cell_type": "code",
   "execution_count": null,
   "id": "dbd6cab0",
   "metadata": {},
   "outputs": [],
   "source": [
    "for concatenation, we use extend() method of list and for replication, we use copy() method.\n"
   ]
  },
  {
   "cell_type": "markdown",
   "id": "1fc73031",
   "metadata": {},
   "source": [
    "Q10. What is difference between the list methods append() and insert()?"
   ]
  },
  {
   "cell_type": "code",
   "execution_count": null,
   "id": "7fa18b77",
   "metadata": {},
   "outputs": [],
   "source": [
    "append(value) method is used to add value at the last position of the list whereas\n",
    "insert(index,value) method is used to add value at a certain index position."
   ]
  },
  {
   "cell_type": "markdown",
   "id": "7886bbb1",
   "metadata": {},
   "source": [
    "Q11. What are the two methods for removing items from a list?"
   ]
  },
  {
   "cell_type": "code",
   "execution_count": null,
   "id": "86d929f0",
   "metadata": {},
   "outputs": [],
   "source": [
    "pop() and remove() are used to remove items from the list.\n",
    "pop() takes index value as an argument and removes the value of that index.\n",
    "remove() takes value as an argument and removes first occurance of that value.\n"
   ]
  },
  {
   "cell_type": "markdown",
   "id": "937fec13",
   "metadata": {},
   "source": [
    "Q12. Describe how list values and string values are identical."
   ]
  },
  {
   "cell_type": "code",
   "execution_count": null,
   "id": "172b264e",
   "metadata": {},
   "outputs": [],
   "source": [
    "both list and string values are iterable. we can use indexing, slicing functions. we can iterate through one by one items using loops."
   ]
  },
  {
   "cell_type": "markdown",
   "id": "2a19beb1",
   "metadata": {},
   "source": [
    "Q13. What's the difference between tuples and lists?"
   ]
  },
  {
   "cell_type": "code",
   "execution_count": null,
   "id": "3cd3603a",
   "metadata": {},
   "outputs": [],
   "source": [
    "the main difference between tuple and list datatypes are - tuple is a mutable datatype and list is an immutable datatype.\n",
    "after creating tuple, we cannot edit its values whereas we can reassign values in list datatypes."
   ]
  },
  {
   "cell_type": "markdown",
   "id": "83f1e904",
   "metadata": {},
   "source": [
    "Q14. How do you type a tuple value that only contains the integer 42?"
   ]
  },
  {
   "cell_type": "code",
   "execution_count": null,
   "id": "8548200f",
   "metadata": {},
   "outputs": [],
   "source": [
    "we need to write comma with single value to create tuple.\n",
    "\n",
    "a = (34,) "
   ]
  },
  {
   "cell_type": "markdown",
   "id": "5646143d",
   "metadata": {},
   "source": [
    "Q15. How do you get a list value&#39;s tuple form? How do you get a tuple value&#39;s list form?"
   ]
  },
  {
   "cell_type": "code",
   "execution_count": 88,
   "id": "67afccea",
   "metadata": {},
   "outputs": [
    {
     "name": "stdout",
     "output_type": "stream",
     "text": [
      "[9, 6, 7, 7]\n",
      "(5, 6, 8, 9)\n"
     ]
    }
   ],
   "source": [
    "we can use built-in function tuple() for converting list into tuple and list() for converting tuple into list.\n",
    "\n",
    "a = (9,6,7,7)\n",
    "b = [5,6,8,9]\n",
    "\n",
    "print(list(a))\n",
    "print(tuple(b))\n"
   ]
  },
  {
   "cell_type": "markdown",
   "id": "37cd43c2",
   "metadata": {},
   "source": [
    "Q16. Variables that &quot;contain&quot; list values are not necessarily lists themselves. Instead, what do they\n",
    "contain?"
   ]
  },
  {
   "cell_type": "code",
   "execution_count": 90,
   "id": "ec962e3b",
   "metadata": {},
   "outputs": [
    {
     "data": {
      "text/plain": [
       "int"
      ]
     },
     "execution_count": 90,
     "metadata": {},
     "output_type": "execute_result"
    }
   ],
   "source": [
    "variable stores the reference of the list values."
   ]
  },
  {
   "cell_type": "markdown",
   "id": "a9f012bf",
   "metadata": {},
   "source": [
    "Q17. How do you distinguish between copy.copy() and copy.deepcopy()?"
   ]
  },
  {
   "cell_type": "code",
   "execution_count": null,
   "id": "5f1eca54",
   "metadata": {},
   "outputs": [],
   "source": [
    "copy.copy() will populate the changes in the original values from the changes occured in the copied values whereas\n",
    "\n",
    "copy.deepcopy() will not reflect the changes in the original values even if changes have occured in the copied values."
   ]
  }
 ],
 "metadata": {
  "kernelspec": {
   "display_name": "Python 3 (ipykernel)",
   "language": "python",
   "name": "python3"
  },
  "language_info": {
   "codemirror_mode": {
    "name": "ipython",
    "version": 3
   },
   "file_extension": ".py",
   "mimetype": "text/x-python",
   "name": "python",
   "nbconvert_exporter": "python",
   "pygments_lexer": "ipython3",
   "version": "3.9.12"
  }
 },
 "nbformat": 4,
 "nbformat_minor": 5
}
