{
 "cells": [
  {
   "cell_type": "markdown",
   "id": "c9f52617",
   "metadata": {},
   "source": [
    "Q1.What are the two values of the Boolean data type? How do you write them?"
   ]
  },
  {
   "cell_type": "code",
   "execution_count": null,
   "id": "bde8e291",
   "metadata": {},
   "outputs": [],
   "source": [
    "Two values of boolean data types are True and False. these are reserved keywords so we can write them without quotation \"\".\n",
    "True and False holds 1 and 0 values."
   ]
  },
  {
   "cell_type": "markdown",
   "id": "f5739b0f",
   "metadata": {},
   "source": [
    "Q2. What are the three different types of Boolean operators?"
   ]
  },
  {
   "cell_type": "code",
   "execution_count": null,
   "id": "0133d62d",
   "metadata": {},
   "outputs": [],
   "source": [
    "And- the result will be True if both the given statements are True otherwise result will be False.\n",
    "Or- the result will be True if one or more statement is true otherwise result will be False.\n",
    "Not- the result will be True if statement is True otherwise result will be False."
   ]
  },
  {
   "cell_type": "markdown",
   "id": "3edfbda2",
   "metadata": {},
   "source": [
    "Q3. Make a list of each Boolean operator's truth tables (i.e. every possible combination of Boolean\n",
    "values for the operator and what it evaluate )."
   ]
  },
  {
   "cell_type": "code",
   "execution_count": 12,
   "id": "93d3f201",
   "metadata": {},
   "outputs": [],
   "source": [
    "value = 'abcd'"
   ]
  },
  {
   "cell_type": "code",
   "execution_count": 14,
   "id": "ab5efdc2",
   "metadata": {},
   "outputs": [
    {
     "data": {
      "text/plain": [
       "True"
      ]
     },
     "execution_count": 14,
     "metadata": {},
     "output_type": "execute_result"
    }
   ],
   "source": [
    "'a' in value  and 'b' in value  # both statements are true so result is true"
   ]
  },
  {
   "cell_type": "code",
   "execution_count": 15,
   "id": "03f35832",
   "metadata": {},
   "outputs": [
    {
     "data": {
      "text/plain": [
       "False"
      ]
     },
     "execution_count": 15,
     "metadata": {},
     "output_type": "execute_result"
    }
   ],
   "source": [
    "'a' in value  and 'm' in value # both statements are not true so result is false"
   ]
  },
  {
   "cell_type": "code",
   "execution_count": 16,
   "id": "034c4c16",
   "metadata": {},
   "outputs": [
    {
     "data": {
      "text/plain": [
       "False"
      ]
     },
     "execution_count": 16,
     "metadata": {},
     "output_type": "execute_result"
    }
   ],
   "source": [
    "'n' in value  and 'm' in value # both statements are not true so result is false"
   ]
  },
  {
   "cell_type": "code",
   "execution_count": 17,
   "id": "df0c42e3",
   "metadata": {},
   "outputs": [
    {
     "data": {
      "text/plain": [
       "True"
      ]
     },
     "execution_count": 17,
     "metadata": {},
     "output_type": "execute_result"
    }
   ],
   "source": [
    "'a' in value  or 'b' in value # one statement should be true"
   ]
  },
  {
   "cell_type": "code",
   "execution_count": 18,
   "id": "0bf6376f",
   "metadata": {},
   "outputs": [
    {
     "data": {
      "text/plain": [
       "True"
      ]
     },
     "execution_count": 18,
     "metadata": {},
     "output_type": "execute_result"
    }
   ],
   "source": [
    "'a' in value  or 'm' in value # one statement should be true"
   ]
  },
  {
   "cell_type": "code",
   "execution_count": 19,
   "id": "0e8785f0",
   "metadata": {},
   "outputs": [
    {
     "data": {
      "text/plain": [
       "False"
      ]
     },
     "execution_count": 19,
     "metadata": {},
     "output_type": "execute_result"
    }
   ],
   "source": [
    "'n' in value  or 'm' in value # one statement should be true else result will be false"
   ]
  },
  {
   "cell_type": "code",
   "execution_count": 21,
   "id": "0d80e5dd",
   "metadata": {},
   "outputs": [
    {
     "data": {
      "text/plain": [
       "True"
      ]
     },
     "execution_count": 21,
     "metadata": {},
     "output_type": "execute_result"
    }
   ],
   "source": [
    "\"n\" not in value # if statement is true then result will be true"
   ]
  },
  {
   "cell_type": "code",
   "execution_count": 22,
   "id": "ac46bfbf",
   "metadata": {},
   "outputs": [
    {
     "data": {
      "text/plain": [
       "False"
      ]
     },
     "execution_count": 22,
     "metadata": {},
     "output_type": "execute_result"
    }
   ],
   "source": [
    "\"a\" not in value # if statement is not true then result will be false"
   ]
  },
  {
   "cell_type": "markdown",
   "id": "4d706947",
   "metadata": {},
   "source": [
    "Q4. What are the values of the following expressions?\n",
    "(5 &gt; 4) and (3 == 5),\n",
    "not (5 &gt; 4),\n",
    "(5 &gt; 4) or (3 == 5),\n",
    "not ((5 &gt; 4) or (3 == 5)),\n",
    "(True and True) and (True == False),\n",
    "(not False) or (not True)"
   ]
  },
  {
   "cell_type": "code",
   "execution_count": null,
   "id": "b9bc1d1e",
   "metadata": {},
   "outputs": [],
   "source": [
    "(5 > 4) and (3 == 5) = False\n",
    "not (5 > 4) = False\n",
    "(5 > 4) or (3 == 5) = True\n",
    "not ((5 > 4) or (3 == 5)) = False\n",
    "(True and True) and (True == False) =  False\n",
    "(not False) or (not True) = True"
   ]
  },
  {
   "cell_type": "markdown",
   "id": "5b3e99c5",
   "metadata": {},
   "source": [
    "Q5. What are the six comparison operators?"
   ]
  },
  {
   "cell_type": "code",
   "execution_count": null,
   "id": "77f8767a",
   "metadata": {},
   "outputs": [],
   "source": [
    "six comparison operators are \n",
    "> - greater than\n",
    "< - less than\n",
    ">= - greater than equal to\n",
    "<= - less than equal to \n",
    "== - equal to\n",
    "!= - not equal to"
   ]
  },
  {
   "cell_type": "markdown",
   "id": "72346c9a",
   "metadata": {},
   "source": [
    "Q6. How do you tell the difference between the equal to and assignment operators?Describe a\n",
    "condition and when you would use one."
   ]
  },
  {
   "cell_type": "code",
   "execution_count": null,
   "id": "e507000c",
   "metadata": {},
   "outputs": [],
   "source": [
    "Equal to operator contains 2 equal element '==' on the otherhand assingment operator contains 1 equal element '='.\n",
    "for ex. in 1st statement we are storing a value to a variable and in 2nd statement we are comparing two objects or variables.\n",
    "1. a = 'b'\n",
    "2. a == b"
   ]
  },
  {
   "cell_type": "markdown",
   "id": "fcf9b051",
   "metadata": {},
   "source": [
    "Q7. Identify the three blocks in this code:\n",
    "spam = 0\n",
    "if spam == 10:\n",
    "print(&#39;eggs&#39;)\n",
    "if spam &gt; 5:\n",
    "print(&#39;bacon&#39;)\n",
    "else:\n",
    "print(&#39;ham&#39;)\n",
    "print(&#39;spam&#39;)\n",
    "print(&#39;spam&#39;)"
   ]
  },
  {
   "cell_type": "code",
   "execution_count": null,
   "id": "d1d84876",
   "metadata": {},
   "outputs": [],
   "source": [
    "first block :\n",
    "    if spam == 10: \n",
    "        print('eggs')\n",
    "        \n",
    "second block :\n",
    "     if spam > 5: \n",
    "            print('bacon')\n",
    "third block :\n",
    "    else: \n",
    "        print('ham') \n",
    "        print('spam') \n",
    "        print('spam')"
   ]
  },
  {
   "cell_type": "markdown",
   "id": "96f8045c",
   "metadata": {},
   "source": [
    "Q8. Write code that prints Hello if 1 is stored in spam, prints Howdy if 2 is stored in spam, and prints\n",
    "Greetings! if anything else is stored in spam."
   ]
  },
  {
   "cell_type": "code",
   "execution_count": 40,
   "id": "5fdf8aaf",
   "metadata": {},
   "outputs": [
    {
     "name": "stdout",
     "output_type": "stream",
     "text": [
      "6\n",
      "Greetings!\n"
     ]
    }
   ],
   "source": [
    "spam = input()\n",
    "if spam == \"1\" :\n",
    "    print(\"Hello\")\n",
    "elif spam == \"2\":\n",
    "    print(\"Howdy\")\n",
    "else:\n",
    "    print(\"Greetings!\")\n",
    "    "
   ]
  },
  {
   "cell_type": "markdown",
   "id": "c43048b9",
   "metadata": {},
   "source": [
    "Q9.If your programme is stuck in an endless loop, what keys you’ll press?"
   ]
  },
  {
   "cell_type": "code",
   "execution_count": null,
   "id": "3d8253a7",
   "metadata": {},
   "outputs": [],
   "source": [
    "If we are working in Jupiter notebook, we will interrupt the kernel to end the loop.\n",
    "If we are working in any IDE, we can simple stop the script to end the loop."
   ]
  },
  {
   "cell_type": "markdown",
   "id": "5b13b874",
   "metadata": {},
   "source": [
    "Q10. How can you tell the difference between break and continue?"
   ]
  },
  {
   "cell_type": "code",
   "execution_count": null,
   "id": "7b70493c",
   "metadata": {},
   "outputs": [],
   "source": [
    "break function will give you exit from your code from the line where it is written on the otherhand\n",
    "continue will skip the next lines from the line where it is written and start over the code again."
   ]
  },
  {
   "cell_type": "markdown",
   "id": "13a714ac",
   "metadata": {},
   "source": [
    "Q11. In a for loop, what is the difference between range(10), range(0, 10), and range(0, 10, 1)?"
   ]
  },
  {
   "cell_type": "code",
   "execution_count": null,
   "id": "54e1e7d7",
   "metadata": {},
   "outputs": [],
   "source": [
    "there is no difference in given 3 ranges. the output of all 3 ranges in for loop will be same. the only difference is writing style of range."
   ]
  },
  {
   "cell_type": "markdown",
   "id": "834ec03b",
   "metadata": {},
   "source": [
    "Q12. Write a short program that prints the numbers 1 to 10 using a for loop. Then write an equivalent\n",
    "program that prints the numbers 1 to 10 using a while loop."
   ]
  },
  {
   "cell_type": "code",
   "execution_count": null,
   "id": "246e8ca5",
   "metadata": {},
   "outputs": [],
   "source": [
    "#for loop program\n",
    "\n",
    "for i in range(1,11):\n",
    "    print(i)\n",
    "\n",
    "#While loop program    \n",
    "a = 1    \n",
    "while a < 11:\n",
    "    print(a)\n",
    "    a +=1"
   ]
  },
  {
   "cell_type": "markdown",
   "id": "24b00838",
   "metadata": {},
   "source": [
    "Q13. If you had a function named bacon() inside a module named spam, how would you call it after\n",
    "importing spam?"
   ]
  },
  {
   "cell_type": "code",
   "execution_count": null,
   "id": "437c0494",
   "metadata": {},
   "outputs": [],
   "source": [
    "a function can be called from a module by adding period '.' after the module. \n",
    "\n",
    "for ex- import spam\n",
    "spam.bacon()"
   ]
  }
 ],
 "metadata": {
  "kernelspec": {
   "display_name": "Python 3 (ipykernel)",
   "language": "python",
   "name": "python3"
  },
  "language_info": {
   "codemirror_mode": {
    "name": "ipython",
    "version": 3
   },
   "file_extension": ".py",
   "mimetype": "text/x-python",
   "name": "python",
   "nbconvert_exporter": "python",
   "pygments_lexer": "ipython3",
   "version": "3.9.12"
  }
 },
 "nbformat": 4,
 "nbformat_minor": 5
}
