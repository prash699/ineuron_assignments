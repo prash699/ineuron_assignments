{
 "cells": [
  {
   "cell_type": "markdown",
   "id": "984a1f8b",
   "metadata": {},
   "source": [
    "Q1. What does an empty dictionary&#39;s code look like?"
   ]
  },
  {
   "cell_type": "code",
   "execution_count": 8,
   "id": "56e87a8b",
   "metadata": {},
   "outputs": [
    {
     "data": {
      "text/plain": [
       "dict"
      ]
     },
     "execution_count": 8,
     "metadata": {},
     "output_type": "execute_result"
    }
   ],
   "source": [
    "empty dictionary can be created with curly brackets\n",
    "\n",
    "a = {}\n",
    "type(a)"
   ]
  },
  {
   "cell_type": "markdown",
   "id": "d2604741",
   "metadata": {},
   "source": [
    "Q2. What is the value of a dictionary value with the key &#39;foo&#39; and the value 42?\n"
   ]
  },
  {
   "cell_type": "code",
   "execution_count": null,
   "id": "d15479f0",
   "metadata": {},
   "outputs": [],
   "source": [
    "{foo:42}"
   ]
  },
  {
   "cell_type": "markdown",
   "id": "11f00146",
   "metadata": {},
   "source": [
    "Q3. What is the most significant distinction between a dictionary and a list?"
   ]
  },
  {
   "cell_type": "code",
   "execution_count": null,
   "id": "c59f512b",
   "metadata": {},
   "outputs": [],
   "source": [
    "the most significant difference between a dictionary and a list is brackets used to create them..\n",
    "square brackets are used to create the list datatype and curly brackets are used to create dictionary datatype.\n",
    "secondly, list contains individual values and dictionary contains key and value pairs."
   ]
  },
  {
   "cell_type": "markdown",
   "id": "72c5acc0",
   "metadata": {},
   "source": [
    "Q4. What happens if you try to access spam[&#39;foo&#39;] if spam is {&#39;bar&#39;: 100}?"
   ]
  },
  {
   "cell_type": "code",
   "execution_count": null,
   "id": "7eda7673",
   "metadata": {},
   "outputs": [],
   "source": [
    "we will receive the key error as there is no foo key in the spam dictionary."
   ]
  },
  {
   "cell_type": "markdown",
   "id": "127aaf52",
   "metadata": {},
   "source": [
    "Q5. If a dictionary is stored in spam, what is the difference between the expressions &#39;cat&#39; in spam and\n",
    "&#39;cat&#39; in spam.keys()?"
   ]
  },
  {
   "cell_type": "code",
   "execution_count": null,
   "id": "bcac5071",
   "metadata": {},
   "outputs": [],
   "source": [
    "'cat' in spam will check whether the 'cat' is present in the dictionary keys and give the boolean value True/False.\n",
    "'cat' in spam.key() will check whether the 'cat' is present in the list of dictionary keys and gives the boolean value True/False"
   ]
  },
  {
   "cell_type": "markdown",
   "id": "d84848e5",
   "metadata": {},
   "source": [
    "Q6. If a dictionary is stored in spam, what is the difference between the expressions &#39;cat&#39; in spam and\n",
    "&#39;cat&#39; in spam.values()?"
   ]
  },
  {
   "cell_type": "code",
   "execution_count": null,
   "id": "d1443187",
   "metadata": {},
   "outputs": [],
   "source": [
    "'cat' in spam will check whether the 'cat' is present in the dictionary keys and give the boolean value True/False.\n",
    "'cat' in spam.values() will check whether the 'cat' is present in the list of dictionary values and gives the boolean value True/False"
   ]
  },
  {
   "cell_type": "markdown",
   "id": "ae17b1fa",
   "metadata": {},
   "source": [
    "Q7. What is a shortcut for the following code?\n",
    "\n",
    "if &#39;color&#39; not in spam:\n",
    "\n",
    "spam[&#39;color&#39;] = &#39;black&#39;"
   ]
  },
  {
   "cell_type": "code",
   "execution_count": 22,
   "id": "449a4b18",
   "metadata": {},
   "outputs": [
    {
     "data": {
      "text/plain": [
       "{'cat': 345, 'color': 'black'}"
      ]
     },
     "execution_count": 22,
     "metadata": {},
     "output_type": "execute_result"
    }
   ],
   "source": [
    "we can directly write spam['color'] = 'black'. if 'color' key is not present in dictionary, then it will be created else there will be no effect.\n",
    "we can use spam.setdefault('color','black') also.\n",
    "\n",
    "spam['color'] = 'black'"
   ]
  },
  {
   "cell_type": "markdown",
   "id": "b4e17136",
   "metadata": {},
   "source": [
    "Q8. How do you &quot;pretty print&quot; dictionary values using which module and function?"
   ]
  },
  {
   "cell_type": "code",
   "execution_count": null,
   "id": "c29c33e9",
   "metadata": {},
   "outputs": [],
   "source": [
    "we can use pprint module. pretty print method is used to improve the readability of the code and sorts the objects."
   ]
  },
  {
   "cell_type": "code",
   "execution_count": 36,
   "id": "09d258ce",
   "metadata": {},
   "outputs": [
    {
     "name": "stdout",
     "output_type": "stream",
     "text": [
      "{'Age': '44',\n",
      " 'Country': 'Spain',\n",
      " 'cat': 345,\n",
      " 'color': 'black',\n",
      " 'dog': 34,\n",
      " 'game': 345,\n",
      " 'goat': 35,\n",
      " 'key': 345,\n",
      " 'key2': 345,\n",
      " 'mouse': 45,\n",
      " 'same': 345,\n",
      " 'sat': 345}\n"
     ]
    }
   ],
   "source": [
    "import pprint\n",
    "\n",
    "dic = {'cat': 345, 'color': 'black','Country': 'Spain','Age': '44','dog': 34,'mouse': 45,'goat': 35,'key': 345,'key2': 345,'sat': 345,'game': 345,'same': 345}\n",
    "\n",
    "pprint.pprint(dic)"
   ]
  },
  {
   "cell_type": "code",
   "execution_count": 37,
   "id": "013265a3",
   "metadata": {},
   "outputs": [
    {
     "name": "stdout",
     "output_type": "stream",
     "text": [
      "{'cat': 345, 'color': 'black', 'Country': 'Spain', 'Age': '44', 'dog': 34, 'mouse': 45, 'goat': 35, 'key': 345, 'key2': 345, 'sat': 345, 'game': 345, 'same': 345}\n"
     ]
    }
   ],
   "source": [
    "print(dic)"
   ]
  },
  {
   "cell_type": "code",
   "execution_count": null,
   "id": "b675c0ed",
   "metadata": {},
   "outputs": [],
   "source": []
  }
 ],
 "metadata": {
  "kernelspec": {
   "display_name": "Python 3 (ipykernel)",
   "language": "python",
   "name": "python3"
  },
  "language_info": {
   "codemirror_mode": {
    "name": "ipython",
    "version": 3
   },
   "file_extension": ".py",
   "mimetype": "text/x-python",
   "name": "python",
   "nbconvert_exporter": "python",
   "pygments_lexer": "ipython3",
   "version": "3.9.12"
  }
 },
 "nbformat": 4,
 "nbformat_minor": 5
}
