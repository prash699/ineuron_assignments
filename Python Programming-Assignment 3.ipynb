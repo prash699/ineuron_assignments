{
 "cells": [
  {
   "cell_type": "markdown",
   "id": "9c225c3b",
   "metadata": {},
   "source": [
    "Q1. Why are functions advantageous to have in your programs?"
   ]
  },
  {
   "cell_type": "code",
   "execution_count": null,
   "id": "9a62259d",
   "metadata": {},
   "outputs": [],
   "source": [
    "the main reason to create a function is the reusability and easy readability of the code. we are required to give certain arguments and\n",
    "funciton will be able to return the output as many times as we want with the same logic."
   ]
  },
  {
   "cell_type": "markdown",
   "id": "f88b2c02",
   "metadata": {},
   "source": [
    "Q2. When does the code in a function run: when it's specified or when it's called?"
   ]
  },
  {
   "cell_type": "code",
   "execution_count": null,
   "id": "be6be943",
   "metadata": {},
   "outputs": [],
   "source": [
    "the code in the function will run when the funciton is called."
   ]
  },
  {
   "cell_type": "markdown",
   "id": "782553d0",
   "metadata": {},
   "source": [
    "Q3. What statement creates a function?"
   ]
  },
  {
   "cell_type": "code",
   "execution_count": null,
   "id": "b157dbb8",
   "metadata": {},
   "outputs": [],
   "source": [
    "we use 'def' keyword to create a funtion and 'return' keyword to get the output of the function. \n",
    "\n",
    "below statement is the representation of function creation..\n",
    "\n",
    "def function_name():\n",
    "    \"\"\"here we write \n",
    "    out code\"\"\"\n",
    "    \n",
    "    return output"
   ]
  },
  {
   "cell_type": "markdown",
   "id": "d8f2285e",
   "metadata": {},
   "source": [
    "Q4. What is the difference between a function and a function call?"
   ]
  },
  {
   "cell_type": "code",
   "execution_count": null,
   "id": "3d2a00fc",
   "metadata": {},
   "outputs": [],
   "source": [
    "function is defined as a block of code which is created with 'def' keyword and gives output with 'return' keyword.\n",
    "function calling is done by writing the function name with required argument and executing it.\n"
   ]
  },
  {
   "cell_type": "markdown",
   "id": "2c1e0172",
   "metadata": {},
   "source": [
    "Q5. How many global scopes are there in a Python program? How many local scopes?"
   ]
  },
  {
   "cell_type": "code",
   "execution_count": null,
   "id": "83256ce0",
   "metadata": {},
   "outputs": [],
   "source": [
    "a global variable can be used everywhere. it can be accessible within the function as well as outside the function.\n",
    "a local variable has a limited scope till its function where the variable is assigned."
   ]
  },
  {
   "cell_type": "markdown",
   "id": "51affa99",
   "metadata": {},
   "source": [
    "Q6. What happens to variables in a local scope when the function call returns?"
   ]
  },
  {
   "cell_type": "code",
   "execution_count": null,
   "id": "875a7d1f",
   "metadata": {},
   "outputs": [],
   "source": [
    "the output of the function will be the value of the variable that is assigned locally."
   ]
  },
  {
   "cell_type": "markdown",
   "id": "df8afa48",
   "metadata": {},
   "source": [
    "Q7. What is the concept of a return value? Is it possible to have a return value in an expression?"
   ]
  },
  {
   "cell_type": "code",
   "execution_count": null,
   "id": "5fcb6888",
   "metadata": {},
   "outputs": [],
   "source": [
    "return value is used to gives the desired output of a function. \n",
    "we are required to write 'return' keyword after writing the code in the function and preceded by desired output.\n",
    "\n",
    "return cannot be used in an expression. the code will give the syntax error if we write return statement in an expression."
   ]
  },
  {
   "cell_type": "markdown",
   "id": "a649457b",
   "metadata": {},
   "source": [
    "Q8. If a function does not have a return statement, what is the return value of a call to that function?"
   ]
  },
  {
   "cell_type": "code",
   "execution_count": null,
   "id": "c4d6d838",
   "metadata": {},
   "outputs": [],
   "source": [
    "the output of the function will be nothing if there is no return statement mentioned in the function."
   ]
  },
  {
   "cell_type": "markdown",
   "id": "9a6f46c1",
   "metadata": {},
   "source": [
    "Q9. How do you make a function variable refer to the global variable?"
   ]
  },
  {
   "cell_type": "code",
   "execution_count": null,
   "id": "1b71eecd",
   "metadata": {},
   "outputs": [],
   "source": [
    "we can global keyword to create a global variable in the function.\n",
    "After calling the function, we will be able to access the local variable outside the function.\n",
    "below is the example."
   ]
  },
  {
   "cell_type": "code",
   "execution_count": 20,
   "id": "b2ff350f",
   "metadata": {},
   "outputs": [],
   "source": [
    "def global_variable():\n",
    "    global x\n",
    "    x = 2    "
   ]
  },
  {
   "cell_type": "code",
   "execution_count": 21,
   "id": "2137162c",
   "metadata": {},
   "outputs": [],
   "source": [
    "global_variable()"
   ]
  },
  {
   "cell_type": "code",
   "execution_count": 22,
   "id": "0bc74429",
   "metadata": {},
   "outputs": [
    {
     "data": {
      "text/plain": [
       "2"
      ]
     },
     "execution_count": 22,
     "metadata": {},
     "output_type": "execute_result"
    }
   ],
   "source": [
    "x"
   ]
  },
  {
   "cell_type": "markdown",
   "id": "4ba9d393",
   "metadata": {},
   "source": [
    "Q10. What is the data type of None?"
   ]
  },
  {
   "cell_type": "code",
   "execution_count": null,
   "id": "6dda38c8",
   "metadata": {},
   "outputs": [],
   "source": [
    "data type of None is NoneType. the general usecase of None is creating the variables with none value where we are uncertain\n",
    "about the value and its datatype and where the variable will be used in the further code."
   ]
  },
  {
   "cell_type": "markdown",
   "id": "91345727",
   "metadata": {},
   "source": [
    "Q11. What does the sentence import areallyourpetsnamederic do?"
   ]
  },
  {
   "cell_type": "code",
   "execution_count": null,
   "id": "b5400a54",
   "metadata": {},
   "outputs": [],
   "source": [
    "import is buit-in keyword to access the ready to use packages and modules."
   ]
  },
  {
   "cell_type": "markdown",
   "id": "2aafc279",
   "metadata": {},
   "source": [
    "Q12. If you had a bacon() feature in a spam module, what would you call it after importing spam?"
   ]
  },
  {
   "cell_type": "code",
   "execution_count": null,
   "id": "b0af3c09",
   "metadata": {},
   "outputs": [],
   "source": [
    "we can use the bacon() feature in spam module by adding dot(.) after the spam.\n",
    "\n",
    "spam.bacon()"
   ]
  },
  {
   "cell_type": "markdown",
   "id": "c53901eb",
   "metadata": {},
   "source": [
    "Q13. What can you do to save a programme from crashing if it encounters an error?"
   ]
  },
  {
   "cell_type": "code",
   "execution_count": null,
   "id": "0562b1b6",
   "metadata": {},
   "outputs": [],
   "source": [
    "for error handling purposes, we use try and except block in which we write the code in try block and\n",
    "write the helping code in except block.\n",
    "except block will only execute if try block fails due to any exception except SyntaxError."
   ]
  },
  {
   "cell_type": "markdown",
   "id": "02cdaec4",
   "metadata": {},
   "source": [
    "Q14. What is the purpose of the try clause? What is the purpose of the except clause?"
   ]
  },
  {
   "cell_type": "code",
   "execution_count": null,
   "id": "f2c23c3b",
   "metadata": {},
   "outputs": [],
   "source": [
    "try and except clauses are always used simultaneously. try clause is used to prevent the system to give auto generated errors.\n",
    "and except clause is used to handle the error orrured in try clause by writing specific code."
   ]
  }
 ],
 "metadata": {
  "kernelspec": {
   "display_name": "Python 3 (ipykernel)",
   "language": "python",
   "name": "python3"
  },
  "language_info": {
   "codemirror_mode": {
    "name": "ipython",
    "version": 3
   },
   "file_extension": ".py",
   "mimetype": "text/x-python",
   "name": "python",
   "nbconvert_exporter": "python",
   "pygments_lexer": "ipython3",
   "version": "3.9.12"
  }
 },
 "nbformat": 4,
 "nbformat_minor": 5
}
