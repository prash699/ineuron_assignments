{
 "cells": [
  {
   "cell_type": "markdown",
   "id": "384b7ea2",
   "metadata": {},
   "source": [
    "Q1 In the below elements which of them are values or an expression? eg:- values can be\n",
    "integer or string and expressions will be mathematical operators.\n",
    "*\n",
    "'hello'\n",
    "-87.8\n",
    "-\n",
    "/\n",
    "+\n",
    "6\n"
   ]
  },
  {
   "cell_type": "code",
   "execution_count": null,
   "id": "bb129f7b",
   "metadata": {},
   "outputs": [],
   "source": [
    "values - 'hello', -87.8, 6\n",
    "expressions - * , - , / , +"
   ]
  },
  {
   "cell_type": "markdown",
   "id": "e82d9ca4",
   "metadata": {},
   "source": [
    "Q2. What is the difference between string and variable"
   ]
  },
  {
   "cell_type": "code",
   "execution_count": null,
   "id": "7cdf6b87",
   "metadata": {},
   "outputs": [],
   "source": [
    "Variable is a container which holds any value. for ex- a =10. here a is variable which holds value 10\n",
    "string is data type which can be written within \"\" , '', \"\"\"\"\"\". for ex- '23'"
   ]
  },
  {
   "cell_type": "markdown",
   "id": "08f2d24b",
   "metadata": {},
   "source": [
    "Q3. Describe three different data types."
   ]
  },
  {
   "cell_type": "code",
   "execution_count": null,
   "id": "30ef29bb",
   "metadata": {},
   "outputs": [],
   "source": [
    "integer - integer is all positive and negative number including 0 except numbers with decimal values.\n",
    "float - float is all positive and negative number having decimal values.\n",
    "string - string is text data type which can be written in quotations '',\"\",\"\"\"\"\"\""
   ]
  },
  {
   "cell_type": "markdown",
   "id": "39119236",
   "metadata": {},
   "source": [
    "Q4. What is an expression made up of? What do all expressions do?"
   ]
  },
  {
   "cell_type": "code",
   "execution_count": null,
   "id": "25f2b05d",
   "metadata": {},
   "outputs": [],
   "source": [
    "an expression is made up of different variables and data types. by execution of the expression, we are able\n",
    "to derive some values."
   ]
  },
  {
   "cell_type": "markdown",
   "id": "2e8e6fae",
   "metadata": {},
   "source": [
    "Q5. This assignment statements, like spam = 10. What is the difference between an\n",
    "expression and a statement?"
   ]
  },
  {
   "cell_type": "code",
   "execution_count": null,
   "id": "25c60e72",
   "metadata": {},
   "outputs": [],
   "source": [
    "by execution of an expression, we are able to get the results on the other hand a statement is an object which do not return anything but it can be used to form an expression."
   ]
  },
  {
   "cell_type": "markdown",
   "id": "88108ddf",
   "metadata": {},
   "source": [
    "Q6. After running the following code, what does the variable bacon contain?\n",
    "bacon = 22, \n",
    "bacon + 1"
   ]
  },
  {
   "cell_type": "code",
   "execution_count": null,
   "id": "93ca8665",
   "metadata": {},
   "outputs": [],
   "source": [
    "22"
   ]
  },
  {
   "cell_type": "markdown",
   "id": "519a716c",
   "metadata": {},
   "source": [
    "Q7. What should the values of the following two terms be?\n",
    "'spam' + 'spamspam' ,\n",
    "'spam' * 3"
   ]
  },
  {
   "cell_type": "code",
   "execution_count": null,
   "id": "0e074e44",
   "metadata": {},
   "outputs": [],
   "source": [
    "'spamspamspam'"
   ]
  },
  {
   "cell_type": "markdown",
   "id": "59fe7c90",
   "metadata": {},
   "source": [
    "Q8. Why is eggs a valid variable name while 100 is invalid?"
   ]
  },
  {
   "cell_type": "code",
   "execution_count": null,
   "id": "3590c879",
   "metadata": {},
   "outputs": [],
   "source": [
    "In python, a variable cannot be defined by an integer or a variable starting with an integer. it will give a syntax error."
   ]
  },
  {
   "cell_type": "markdown",
   "id": "2beca729",
   "metadata": {},
   "source": [
    "Q9. What three functions can be used to get the integer, floating-point number, or string\n",
    "version of a value?"
   ]
  },
  {
   "cell_type": "code",
   "execution_count": null,
   "id": "e0cfab7b",
   "metadata": {},
   "outputs": [],
   "source": [
    "int\n",
    "str\n",
    "float"
   ]
  },
  {
   "cell_type": "markdown",
   "id": "097ac76c",
   "metadata": {},
   "source": [
    "Q10. Why does this expression cause an error? How can you fix it?\n",
    "'I have eaten' + 99 + 'burritos.'"
   ]
  },
  {
   "cell_type": "code",
   "execution_count": null,
   "id": "63df0123",
   "metadata": {},
   "outputs": [],
   "source": [
    "Here 99 is an integer and other two objects are string. we cannot apply arithmetic expressions with different data types. \n",
    "that is why we are facing an error. For error free execution, we should have same data type to perform an expression. \n",
    "we need to write 99 as a string."
   ]
  }
 ],
 "metadata": {
  "kernelspec": {
   "display_name": "Python 3 (ipykernel)",
   "language": "python",
   "name": "python3"
  },
  "language_info": {
   "codemirror_mode": {
    "name": "ipython",
    "version": 3
   },
   "file_extension": ".py",
   "mimetype": "text/x-python",
   "name": "python",
   "nbconvert_exporter": "python",
   "pygments_lexer": "ipython3",
   "version": "3.9.12"
  }
 },
 "nbformat": 4,
 "nbformat_minor": 5
}
