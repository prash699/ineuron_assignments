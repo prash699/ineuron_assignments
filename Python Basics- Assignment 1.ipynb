{
 "cells": [
  {
   "cell_type": "markdown",
   "id": "8170a446",
   "metadata": {},
   "source": [
    "1. In the below elements which of them are values or an expression? eg:- values can be\n",
    "integer or string and expressions will be mathematical operators.\n",
    "*\n",
    "'hello'\n",
    "-87.8\n",
    "-\n",
    "/\n",
    "+\n",
    "6\n"
   ]
  },
  {
   "cell_type": "code",
   "execution_count": null,
   "id": "ca37a290",
   "metadata": {},
   "outputs": [],
   "source": [
    "values - 'hello', -87.8, 6\n",
    "expressions - * , - , / , +"
   ]
  },
  {
   "cell_type": "markdown",
   "id": "dbaf6279",
   "metadata": {},
   "source": [
    "2. What is the difference between string and variable"
   ]
  },
  {
   "cell_type": "code",
   "execution_count": null,
   "id": "e5aa4058",
   "metadata": {},
   "outputs": [],
   "source": [
    "Variable is a container which holds any value. for ex- a =10. here a is variable which holds value 10\n",
    "string is data type which can be written within \"\" , '', \"\"\"\"\"\". for ex- '23'"
   ]
  },
  {
   "cell_type": "markdown",
   "id": "1401b950",
   "metadata": {},
   "source": [
    "3. Describe three different data types."
   ]
  },
  {
   "cell_type": "code",
   "execution_count": null,
   "id": "59c4b295",
   "metadata": {},
   "outputs": [],
   "source": [
    "integer - integer is all positive and negative number including 0 except numbers with decimal values.\n",
    "float - float is all positive and negative number having decimal values.\n",
    "string - string is text data type which can be written in quotations '',\"\",\"\"\"\"\"\""
   ]
  },
  {
   "cell_type": "markdown",
   "id": "f494dc0c",
   "metadata": {},
   "source": [
    "4. What is an expression made up of? What do all expressions do?"
   ]
  },
  {
   "cell_type": "code",
   "execution_count": null,
   "id": "0d855add",
   "metadata": {},
   "outputs": [],
   "source": [
    "an expression is made up of different variables and data types. by execution of the expression, we are able\n",
    "to derive some values."
   ]
  },
  {
   "cell_type": "markdown",
   "id": "6dc12fd2",
   "metadata": {},
   "source": [
    "5. This assignment statements, like spam = 10. What is the difference between an\n",
    "expression and a statement?"
   ]
  },
  {
   "cell_type": "code",
   "execution_count": null,
   "id": "f7122cb6",
   "metadata": {},
   "outputs": [],
   "source": [
    "by execution of an expression, we are able to get the results on the other hand a statement is an object which do not return anything but it can be used to form an expression."
   ]
  },
  {
   "cell_type": "markdown",
   "id": "f208ac6c",
   "metadata": {},
   "source": [
    "6. After running the following code, what does the variable bacon contain?\n",
    "bacon = 22, \n",
    "bacon + 1"
   ]
  },
  {
   "cell_type": "code",
   "execution_count": null,
   "id": "cf2a2f54",
   "metadata": {},
   "outputs": [],
   "source": [
    "22"
   ]
  },
  {
   "cell_type": "markdown",
   "id": "e95ad233",
   "metadata": {},
   "source": [
    "7. What should the values of the following two terms be?\n",
    "'spam' + 'spamspam' ,\n",
    "'spam' * 3"
   ]
  },
  {
   "cell_type": "code",
   "execution_count": null,
   "id": "cafbfffd",
   "metadata": {},
   "outputs": [],
   "source": [
    "'spamspamspam'"
   ]
  },
  {
   "cell_type": "markdown",
   "id": "a7dde905",
   "metadata": {},
   "source": [
    "8. Why is eggs a valid variable name while 100 is invalid?"
   ]
  },
  {
   "cell_type": "code",
   "execution_count": null,
   "id": "68daa819",
   "metadata": {},
   "outputs": [],
   "source": [
    "In python, a variable cannot be defined by an integer or a variable starting with an integer. it will give a syntax error."
   ]
  },
  {
   "cell_type": "markdown",
   "id": "67e5c621",
   "metadata": {},
   "source": [
    "9. What three functions can be used to get the integer, floating-point number, or string\n",
    "version of a value?"
   ]
  },
  {
   "cell_type": "code",
   "execution_count": null,
   "id": "c7928004",
   "metadata": {},
   "outputs": [],
   "source": [
    "int\n",
    "str\n",
    "float"
   ]
  },
  {
   "cell_type": "markdown",
   "id": "4dc96a86",
   "metadata": {},
   "source": [
    "10. Why does this expression cause an error? How can you fix it?\n",
    "'I have eaten' + 99 + 'burritos.'"
   ]
  },
  {
   "cell_type": "code",
   "execution_count": null,
   "id": "cc51b46a",
   "metadata": {},
   "outputs": [],
   "source": [
    "Here 99 is an integer and other two objects are string. we cannot apply arithmetic expressions with different data types. \n",
    "that is why we are facing an error. For error free execution, we should have same data type to perform an expression. \n",
    "we need to write 99 as a string."
   ]
  }
 ],
 "metadata": {
  "kernelspec": {
   "display_name": "Python 3 (ipykernel)",
   "language": "python",
   "name": "python3"
  },
  "language_info": {
   "codemirror_mode": {
    "name": "ipython",
    "version": 3
   },
   "file_extension": ".py",
   "mimetype": "text/x-python",
   "name": "python",
   "nbconvert_exporter": "python",
   "pygments_lexer": "ipython3",
   "version": "3.9.12"
  }
 },
 "nbformat": 4,
 "nbformat_minor": 5
}
