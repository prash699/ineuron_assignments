{
 "cells": [
  {
   "cell_type": "markdown",
   "id": "a2abc5e7",
   "metadata": {},
   "source": [
    "Q1. What is the name of the feature responsible for generating Regex objects?"
   ]
  },
  {
   "cell_type": "code",
   "execution_count": null,
   "id": "d60013eb",
   "metadata": {},
   "outputs": [],
   "source": [
    "the feature is called regular expression engine. the module re provide several functions and methods for working with\n",
    "regular expressions."
   ]
  },
  {
   "cell_type": "markdown",
   "id": "f23966ee",
   "metadata": {},
   "source": [
    "Q2. Why do raw strings often appear in Regex objects?"
   ]
  },
  {
   "cell_type": "code",
   "execution_count": null,
   "id": "16f78c6a",
   "metadata": {},
   "outputs": [],
   "source": [
    "In regular expressions, backslashes have a special meaning to define metacharacters or special sequences. \n",
    "For example, \\d represents a digit, \\s represents whitespace, and \\b represents a word boundary. To ensure that \n",
    "backslashes are treated as literal characters within regular expressions, raw strings are used."
   ]
  },
  {
   "cell_type": "markdown",
   "id": "9c13a745",
   "metadata": {},
   "source": [
    "Q3. What is the return value of the search() method?"
   ]
  },
  {
   "cell_type": "code",
   "execution_count": null,
   "id": "149cb0fb",
   "metadata": {},
   "outputs": [],
   "source": [
    "The return value of re.search(pattern,string) method is use to find the pattern in the string and return the index no.\n",
    "else it returns a None\n"
   ]
  },
  {
   "cell_type": "markdown",
   "id": "15dc40fd",
   "metadata": {},
   "source": [
    "Q4. From a Match item, how do you get the actual strings that match the pattern?\n"
   ]
  },
  {
   "cell_type": "code",
   "execution_count": null,
   "id": "8366f47d",
   "metadata": {},
   "outputs": [],
   "source": [
    "For Matched items group() methods can be used to returns actual strings that match the pattern\n",
    "\n",
    "import re\n",
    "match = re.search('ineuron','Ineuron Full Stack Data Science Program', flags=re.IGNORECASE)\n",
    "print('Output:',match.group())"
   ]
  },
  {
   "cell_type": "markdown",
   "id": "c52e03ab",
   "metadata": {},
   "source": [
    "Q5. In the regex which created from the r'(\\d\\d\\d)-(\\d\\d\\d-\\d\\d\\d\\d)', what does group zero cover? Group 2? Group 1?\n"
   ]
  },
  {
   "cell_type": "code",
   "execution_count": null,
   "id": "33ce27fe",
   "metadata": {},
   "outputs": [],
   "source": [
    "In the Regex r'(\\d\\d\\d)-(\\d\\d\\d-\\d\\d\\d\\d)' the zero group covers the entire pattern match where \n",
    "as the first group cover (\\d\\d\\d) and the second group cover (\\d\\d\\d-\\d\\d\\d\\d)"
   ]
  },
  {
   "cell_type": "markdown",
   "id": "3cedf1fc",
   "metadata": {},
   "source": [
    "Q6. In standard expression syntax, parentheses and intervals have distinct meanings. \n",
    "How can you tell a regex that you want it to fit real parentheses and periods?"
   ]
  },
  {
   "cell_type": "code",
   "execution_count": null,
   "id": "ba67abf6",
   "metadata": {},
   "outputs": [],
   "source": [
    "The \\. \\( and \\) escape characters in the raw string will be used with period and parentheses.\n",
    "\n",
    "import re\n",
    "Num = re.compile(r'(\\(\\+\\d\\d\\)) (\\d\\d\\d-\\d\\d\\d\\d)')\n",
    "num2 = Num.search('My number is (+31) 456-7899.')\n",
    "print(num2.group())"
   ]
  },
  {
   "cell_type": "markdown",
   "id": "c7e93a30",
   "metadata": {},
   "source": [
    "Q7. The findall() method returns a string list or a list of string tuples. What causes it to return one of the two options?"
   ]
  },
  {
   "cell_type": "code",
   "execution_count": null,
   "id": "c56296e1",
   "metadata": {},
   "outputs": [],
   "source": [
    "If the regex pattern has no groups, a list of matched string will be returned. \n",
    "if the regex pattern has groups, a list of tuple of strings will be returned.\n",
    "\n",
    "import re\n",
    "Num = re.compile(r'\\d{3}-\\d{3}-\\d{4}')\n",
    "num2 = Num.findall('My number is 231-456-7899.')\n",
    "print(num2)\n",
    "\n",
    "import re\n",
    "Num = re.compile(r'(\\(\\+\\d\\d\\)) (\\d\\d\\d-\\d\\d\\d\\d)')\n",
    "num2 = Num.findall('My number is (+31) 456-7899.')\n",
    "print(num2)"
   ]
  },
  {
   "cell_type": "markdown",
   "id": "783730df",
   "metadata": {},
   "source": [
    "Q8. In standard expressions, what does the | character mean?"
   ]
  },
  {
   "cell_type": "code",
   "execution_count": null,
   "id": "69598285",
   "metadata": {},
   "outputs": [],
   "source": [
    "OR"
   ]
  },
  {
   "cell_type": "markdown",
   "id": "54bf5b9a",
   "metadata": {},
   "source": [
    "Q9. In regular expressions, what does the ? character stand for?\n"
   ]
  },
  {
   "cell_type": "code",
   "execution_count": null,
   "id": "12e07c3e",
   "metadata": {},
   "outputs": [],
   "source": [
    "the ? character indicates the preceding element is optional. \n",
    "It specifies that the preceding element can occur zero or one time in the string."
   ]
  },
  {
   "cell_type": "markdown",
   "id": "08ef514f",
   "metadata": {},
   "source": [
    "Q10.In regular expressions, what is the difference between the + and * characters?"
   ]
  },
  {
   "cell_type": "code",
   "execution_count": null,
   "id": "9d71de42",
   "metadata": {},
   "outputs": [],
   "source": [
    "In Regular Expressions, * specifies that Zero or more occurances of the preceeding element, \n",
    "whereas + specifies that one or more occurances of the preceeding element."
   ]
  },
  {
   "cell_type": "markdown",
   "id": "8d3ef83a",
   "metadata": {},
   "source": [
    "Q11. What is the difference between {4} and {4,5} in regular expression?"
   ]
  },
  {
   "cell_type": "code",
   "execution_count": null,
   "id": "22960be6",
   "metadata": {},
   "outputs": [],
   "source": [
    "The {4} specifies that the preceding element must occur exactly four times in the string. \n",
    "It matches if the preceding element repeats exactly four times consecutively. the pattern a{4} matches \"aaaa\" but does not match \"aa\" or \"aaaaa\".\n",
    "\n",
    "{4,5}: The {4,5} quantifier specifies that the preceding element must occur between four and five times in the string. \n",
    "For example, the pattern a{4,5} matches \"aaaa\" and \"aaaaa\" but does not match \"aa\" or \"aaaaaa\"."
   ]
  },
  {
   "cell_type": "markdown",
   "id": "0883575e",
   "metadata": {},
   "source": [
    "Q12. What do you mean by the \\d, \\w, and \\s shorthand character classes signify in regular expressions?"
   ]
  },
  {
   "cell_type": "code",
   "execution_count": null,
   "id": "d206629b",
   "metadata": {},
   "outputs": [],
   "source": [
    "\\w – Matches a word character equivalent to [a-zA-Z0-9_]\n",
    "\\d – Matches digit character equivalent to [0-9]\n",
    "\\s – Matches whitespace character [\\t\\r\\n\\f\\v]"
   ]
  },
  {
   "cell_type": "markdown",
   "id": "2fc899cd",
   "metadata": {},
   "source": [
    "Q13. What do means by \\D, \\W, and \\S shorthand character classes signify in regular expressions?"
   ]
  },
  {
   "cell_type": "code",
   "execution_count": null,
   "id": "bda364ad",
   "metadata": {},
   "outputs": [],
   "source": [
    "\\W – Matches any non-alphanumeric character equivalent to [^a-zA-Z0-9_]\n",
    "\\D – Matches any non-digit character, this is equivalent to the [^0-9]\n",
    "\\S – Matches any non-whitespace character including letters, digits, symbols, and special characters. [^\\t\\r\\n\\f\\v]"
   ]
  },
  {
   "cell_type": "markdown",
   "id": "61520f7d",
   "metadata": {},
   "source": [
    "Q14. What is the difference between .* and .*?"
   ]
  },
  {
   "cell_type": "code",
   "execution_count": null,
   "id": "e6580bc4",
   "metadata": {},
   "outputs": [],
   "source": [
    ".* is a Greedy mode, It will match the longest possible substring that satisfies the condition. Whereas .*? is a \n",
    "non greedy mode which returns the shortest string that meets the condition."
   ]
  },
  {
   "cell_type": "markdown",
   "id": "4045ad37",
   "metadata": {},
   "source": [
    "Q15. What is the syntax for matching both numbers and lowercase letters with a character class?"
   ]
  },
  {
   "cell_type": "code",
   "execution_count": null,
   "id": "5152639a",
   "metadata": {},
   "outputs": [],
   "source": [
    "[a-z0-9] or [0-9a-z]"
   ]
  },
  {
   "cell_type": "markdown",
   "id": "25f23d07",
   "metadata": {},
   "source": [
    "Q16. What is the procedure for making a normal expression in regax case insensitive?"
   ]
  },
  {
   "cell_type": "code",
   "execution_count": null,
   "id": "a150a5ec",
   "metadata": {},
   "outputs": [],
   "source": [
    "re.IGNORECASE will be used to make the expression case insensitive."
   ]
  },
  {
   "cell_type": "markdown",
   "id": "d1d079a9",
   "metadata": {},
   "source": [
    "Q17. What does the . character normally match? What does it match if re.DOTALL is passed as 2nd argument in re.compile()?"
   ]
  },
  {
   "cell_type": "code",
   "execution_count": null,
   "id": "717da815",
   "metadata": {},
   "outputs": [],
   "source": [
    "Dot . character matches everything in input except newline character. By passing re.DOTALL as a flag to re.compile(), \n",
    "dot character matches all characters, including the newline character."
   ]
  },
  {
   "cell_type": "markdown",
   "id": "5634e000",
   "metadata": {},
   "source": [
    "Q18. If numReg = re.compile(r'\\d+'), what will numRegex.sub('X', '11 drummers, 10 pipers, five rings, 4 hen') return?"
   ]
  },
  {
   "cell_type": "code",
   "execution_count": null,
   "id": "3ef685fa",
   "metadata": {},
   "outputs": [],
   "source": [
    "X will replace the digits in the strings. output will be 'X drummers, X pipers, five rings, X hen'"
   ]
  },
  {
   "cell_type": "markdown",
   "id": "f1992f12",
   "metadata": {},
   "source": [
    "Q19. What does passing re.VERBOSE as the 2nd argument to re.compile() allow to do?"
   ]
  },
  {
   "cell_type": "code",
   "execution_count": null,
   "id": "8d90562b",
   "metadata": {},
   "outputs": [],
   "source": [
    "re.VERBOSE will allow to add whitespace, inline comments and Enable Multi-Line Patterns to string passed to re.compile()."
   ]
  },
  {
   "cell_type": "markdown",
   "id": "071a398d",
   "metadata": {},
   "source": [
    "Q20. How would you write a regex that match a number with comma for every three digits? It must match the given following:\n",
    "\n",
    "'42','1,234', '6,368,745'but not the following: '12,34,567' (which has only two digits between the commas) '1234' (which lacks commas)"
   ]
  },
  {
   "cell_type": "code",
   "execution_count": 26,
   "id": "51e05943",
   "metadata": {},
   "outputs": [
    {
     "name": "stdout",
     "output_type": "stream",
     "text": [
      "result: 42 - <re.Match object; span=(0, 2), match='42'>\n",
      "result: 1,234 - <re.Match object; span=(0, 5), match='1,234'>\n",
      "result: 6,368,745 - <re.Match object; span=(0, 9), match='6,368,745'>\n",
      "result: 12,34,567 - None\n",
      "result: 1234 - None\n"
     ]
    }
   ],
   "source": [
    "import re\n",
    "pattern = r'^\\d{1,3}(,\\d{3})*$'\n",
    "rx = re.compile(pattern)\n",
    "for i in ['42','1,234', '6,368,745','12,34,567','1234']:\n",
    "    print('result:',i, '-', rx.search(i))"
   ]
  },
  {
   "cell_type": "markdown",
   "id": "a0a98840",
   "metadata": {},
   "source": [
    "Q21. How would you write a regex that matches the full name of someone whose last name is Watanabe? You can assume that the first name that comes before it will always be one word that begins with a capital letter. The regex must match the following:\n",
    "\n",
    "'Haruto Watanabe'\n",
    "\n",
    "'Alice Watanabe'\n",
    "\n",
    "'RoboCop Watanabe'\n",
    "\n",
    "but not the following:\n",
    "\n",
    "'haruto Watanabe' (where the first name is not capitalized)\n",
    "\n",
    "'Mr. Watanabe' (where the preceding word has a nonletter character)\n",
    "\n",
    "'Watanabe' (which has no first name)\n",
    "\n",
    "'Haruto watanabe' (where Watanabe is not capitalized)"
   ]
  },
  {
   "cell_type": "code",
   "execution_count": 27,
   "id": "543d6852",
   "metadata": {},
   "outputs": [
    {
     "name": "stdout",
     "output_type": "stream",
     "text": [
      "result:  Haruto Watanabe - <re.Match object; span=(0, 15), match='Haruto Watanabe'>\n",
      "result:  Alice Watanabe - <re.Match object; span=(0, 14), match='Alice Watanabe'>\n",
      "result:  RoboCop Watanabe - <re.Match object; span=(4, 16), match='Cop Watanabe'>\n",
      "result:  haruto Watanabe - None\n",
      "result:  Mr. Watanabe - None\n",
      "result:  Watanabe - None\n",
      "result:  Haruto watanabe - None\n"
     ]
    }
   ],
   "source": [
    "import re\n",
    "pattern = r'[A-Z]{1}[a-z]*\\sWatanabe'\n",
    "rx = re.compile(pattern)\n",
    "for i in ['Haruto Watanabe','Alice Watanabe','RoboCop Watanabe','haruto Watanabe','Mr. Watanabe','Watanabe','Haruto watanabe']:\n",
    "    print('result: ',i,'-',rx.search(i))"
   ]
  },
  {
   "cell_type": "markdown",
   "id": "266b04cc",
   "metadata": {},
   "source": [
    "Q22. How would you write a regex that matches a sentence where the first word is either Alice, Bob,or Carol; the second word is either eats, pets, or throws; the third word is apples, cats, or baseballs; and the sentence ends with a period? This regex should be case-insensitive. It must match the following:\n",
    "\n",
    "'Alice eats apples.'\n",
    "\n",
    "'Bob pets cats.'\n",
    "\n",
    "'Carol throws baseballs.'\n",
    "\n",
    "'Alice throws Apples.'\n",
    "\n",
    "'BOB EATS CATS.'\n",
    "\n",
    "but not the following:\n",
    "\n",
    "'RoboCop eats apples.'\n",
    "\n",
    "'ALICE THROWS FOOTBALLS.'\n",
    "\n",
    "'Carol eats 7 cats.'"
   ]
  },
  {
   "cell_type": "code",
   "execution_count": 28,
   "id": "9acb2d5e",
   "metadata": {},
   "outputs": [
    {
     "name": "stdout",
     "output_type": "stream",
     "text": [
      "result:  Alice eats apples. - <re.Match object; span=(0, 18), match='Alice eats apples.'>\n",
      "result:  Bob pets cats. - <re.Match object; span=(0, 14), match='Bob pets cats.'>\n",
      "result:  Carol throws baseballs. - <re.Match object; span=(0, 23), match='Carol throws baseballs.'>\n",
      "result:  Alice throws Apples. - <re.Match object; span=(0, 20), match='Alice throws Apples.'>\n",
      "result:  BOB EATS CATS. - <re.Match object; span=(0, 14), match='BOB EATS CATS.'>\n",
      "result:  RoboCop eats apples. - None\n",
      "result:  ALICE THROWS FOOTBALLS. - None\n",
      "result:  Carol eats 7 cats. - None\n"
     ]
    }
   ],
   "source": [
    "pattern = r\"^(Alice|Bob|Carol)\\s(eats|pets|throws)\\s(apples|cats|baseballs)\\.$\"\n",
    "\n",
    "sentence = [\n",
    "    \"Alice eats apples.\",\n",
    "    \"Bob pets cats.\",\n",
    "    \"Carol throws baseballs.\",\n",
    "    \"Alice throws Apples.\",\n",
    "    \"BOB EATS CATS.\",\n",
    "    \"RoboCop eats apples.\",\n",
    "    \"ALICE THROWS FOOTBALLS.\",\n",
    "    \"Carol eats 7 cats.\"\n",
    "]\n",
    "\n",
    "rx = re.compile(pattern,re.IGNORECASE)\n",
    "for i in sentence:\n",
    "    print('result: ',i,'-',rx.search(i))"
   ]
  },
  {
   "cell_type": "code",
   "execution_count": null,
   "id": "3bbad6bc",
   "metadata": {},
   "outputs": [],
   "source": []
  }
 ],
 "metadata": {
  "kernelspec": {
   "display_name": "Python 3 (ipykernel)",
   "language": "python",
   "name": "python3"
  },
  "language_info": {
   "codemirror_mode": {
    "name": "ipython",
    "version": 3
   },
   "file_extension": ".py",
   "mimetype": "text/x-python",
   "name": "python",
   "nbconvert_exporter": "python",
   "pygments_lexer": "ipython3",
   "version": "3.9.12"
  }
 },
 "nbformat": 4,
 "nbformat_minor": 5
}
