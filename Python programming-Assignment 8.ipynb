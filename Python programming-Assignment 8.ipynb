{
 "cells": [
  {
   "cell_type": "markdown",
   "id": "c1277456",
   "metadata": {},
   "source": [
    "Q1. Is the Python Standard Library included with PyInputPlus?"
   ]
  },
  {
   "cell_type": "code",
   "execution_count": null,
   "id": "7c67b703",
   "metadata": {},
   "outputs": [],
   "source": [
    "No, PyInputPlus is not a part of Python Standard Library, it needs to be installed by passing the \n",
    "command !pip install PyInputPlus."
   ]
  },
  {
   "cell_type": "markdown",
   "id": "20d08406",
   "metadata": {},
   "source": [
    "Q2. Why is PyInputPlus commonly imported with import pyinputplus as pypi?"
   ]
  },
  {
   "cell_type": "code",
   "execution_count": null,
   "id": "f9f21c0b",
   "metadata": {},
   "outputs": [],
   "source": [
    "So that, we don't have to right long keyword \"PyInputPlus\" again and again while calling the function of the module."
   ]
  },
  {
   "cell_type": "markdown",
   "id": "26bfe2db",
   "metadata": {},
   "source": [
    "Q3. How do you distinguish between inputInt() and inputFloat()?"
   ]
  },
  {
   "cell_type": "code",
   "execution_count": null,
   "id": "5cd8e0f9",
   "metadata": {},
   "outputs": [],
   "source": [
    "inputInt() function accepts an integer value and returns always an int. This also takes additional parameters min, max, \n",
    "greaterThan and lessThan for bounds. Whereas inputFloat() function accepts a floating-point numeric value and always returns \n",
    "floating number. this also takes additional min, max, greaterThan and lessThan parameters."
   ]
  },
  {
   "cell_type": "markdown",
   "id": "80572bbf",
   "metadata": {},
   "source": [
    "Q4. Using PyInputPlus, how do you ensure that the user enters a whole number between 0 and 99?"
   ]
  },
  {
   "cell_type": "code",
   "execution_count": null,
   "id": "2ffb6ef5",
   "metadata": {},
   "outputs": [],
   "source": [
    "PyInputPlus module provides a function called inputInt() which only returns integer values. inorder to restrict \n",
    "the input between 0 and 99, parameter min & max can be used to limit the range."
   ]
  },
  {
   "cell_type": "markdown",
   "id": "4cb110a6",
   "metadata": {},
   "source": [
    "Q5. What is transferred to the keyword arguments allowRegexes and blockRegexes?"
   ]
  },
  {
   "cell_type": "code",
   "execution_count": null,
   "id": "db2071b9",
   "metadata": {},
   "outputs": [],
   "source": [
    "we can use allowRegexes and blockRegexes keyword arguments to take list of regular expression strings to determine \n",
    "what the pyinputplus function will reject or accept valid input."
   ]
  },
  {
   "cell_type": "markdown",
   "id": "a7acb6d1",
   "metadata": {},
   "source": [
    "Q6. If a blank input is entered three times, what does inputStr(limit=3) do?"
   ]
  },
  {
   "cell_type": "code",
   "execution_count": null,
   "id": "ed9ac049",
   "metadata": {},
   "outputs": [],
   "source": [
    "The inputStr(limit=3) function from the pyinputplus library is a way to prompt the user for input with a specified \n",
    "limit on the number of attempts they have.if the user enters a blank input three times in a row, the program will raise \n",
    "a TimeoutException after the third attempt."
   ]
  },
  {
   "cell_type": "markdown",
   "id": "04efa209",
   "metadata": {},
   "source": [
    "Q7. If blank input is entered three times, what does inputStr(limit=3, default='hello') do?"
   ]
  },
  {
   "cell_type": "code",
   "execution_count": null,
   "id": "3daf1b01",
   "metadata": {},
   "outputs": [],
   "source": [
    "If the user enters a blank input three times in a row, the program will return the default value 'hello' and continue execution. \n",
    "If the user provides non-blank input at any point, the function will return the provided input, and the \n",
    "count will reset for subsequent inputs."
   ]
  }
 ],
 "metadata": {
  "kernelspec": {
   "display_name": "Python 3 (ipykernel)",
   "language": "python",
   "name": "python3"
  },
  "language_info": {
   "codemirror_mode": {
    "name": "ipython",
    "version": 3
   },
   "file_extension": ".py",
   "mimetype": "text/x-python",
   "name": "python",
   "nbconvert_exporter": "python",
   "pygments_lexer": "ipython3",
   "version": "3.9.12"
  }
 },
 "nbformat": 4,
 "nbformat_minor": 5
}
