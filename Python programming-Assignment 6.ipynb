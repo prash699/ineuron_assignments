{
 "cells": [
  {
   "cell_type": "markdown",
   "id": "8d7994bd",
   "metadata": {},
   "source": [
    "Q1. What are escape characters, and how do you use them?"
   ]
  },
  {
   "cell_type": "code",
   "execution_count": null,
   "id": "5aa5ce18",
   "metadata": {},
   "outputs": [],
   "source": [
    "Escape characters are used to convert the special or reserved character into normal text \n",
    "so that code is vaild and performs as we expect. for example. \\n is used for new line, \\t is used for tab, \\\\ is used for slash."
   ]
  },
  {
   "cell_type": "markdown",
   "id": "17dde31c",
   "metadata": {},
   "source": [
    "Q2. What do the escape characters n and t stand for?"
   ]
  },
  {
   "cell_type": "code",
   "execution_count": null,
   "id": "5c0ad495",
   "metadata": {},
   "outputs": [],
   "source": [
    "\\n is used to create new line in the given text.\n",
    "\\t is use to create 4 space or tab in the given text."
   ]
  },
  {
   "cell_type": "markdown",
   "id": "4c35e5db",
   "metadata": {},
   "source": [
    "Q3. What is the way to include backslash characters in a string?"
   ]
  },
  {
   "cell_type": "code",
   "execution_count": null,
   "id": "49c1847f",
   "metadata": {},
   "outputs": [],
   "source": [
    "\\\\ double backslash is used to make backslash a normal text."
   ]
  },
  {
   "cell_type": "markdown",
   "id": "826d137e",
   "metadata": {},
   "source": [
    "Q4. The string &quot;Howl&#39;s Moving Castle&quot; is a correct value. Why isn&#39;t the single quote character in the\n",
    "word Howl&#39;s not escaped a problem?"
   ]
  },
  {
   "cell_type": "code",
   "execution_count": null,
   "id": "bf0fd041",
   "metadata": {},
   "outputs": [],
   "source": [
    "the string is created with double quotation that is why single quote in Howl's is not giving any error."
   ]
  },
  {
   "cell_type": "markdown",
   "id": "1b06bb28",
   "metadata": {},
   "source": [
    "Q5. How do you write a string of newlines if you don&#39;t want to use the n character?"
   ]
  },
  {
   "cell_type": "code",
   "execution_count": null,
   "id": "1beb8d0a",
   "metadata": {},
   "outputs": [],
   "source": [
    "we can use the triple quote to write string in new lines.\n",
    "\"\"\"\n",
    "the\n",
    "is \n",
    "python\"\"\""
   ]
  },
  {
   "cell_type": "markdown",
   "id": "b36f12e6",
   "metadata": {},
   "source": [
    "Q6. What are the values of the given expressions?\n",
    "\n",
    "&#39;Hello, world!&#39;[1]\n",
    "\n",
    "&#39;Hello, world!&#39;[0:5]\n",
    "\n",
    "&#39;Hello, world!&#39;[:5]\n",
    "\n",
    "&#39;Hello, world!&#39;[3:]"
   ]
  },
  {
   "cell_type": "code",
   "execution_count": null,
   "id": "f34a9657",
   "metadata": {},
   "outputs": [],
   "source": [
    "'Hello, world!'[1] -> 'e'\n",
    "'Hello, world!'[0:5] -> 'Hello'\n",
    "'Hello, world!'[:5] -> 'Hello'\n",
    "'Hello, world!'[3:] -> 'lo, world!'"
   ]
  },
  {
   "cell_type": "markdown",
   "id": "c37bc74b",
   "metadata": {},
   "source": [
    "Q7. What are the values of the following expressions?\n",
    "\n",
    "&#39;Hello&#39;.upper()\n",
    "\n",
    "&#39;Hello&#39;.upper().isupper()\n",
    "\n",
    "&#39;Hello&#39;.upper().lower()"
   ]
  },
  {
   "cell_type": "code",
   "execution_count": null,
   "id": "91df3c5d",
   "metadata": {},
   "outputs": [],
   "source": [
    "'Hello'.upper() -> 'HELLO'\n",
    "\n",
    "'Hello'.upper().isupper() -> True\n",
    "\n",
    "'Hello'.upper().lower() -> 'hello'"
   ]
  },
  {
   "cell_type": "markdown",
   "id": "de535fea",
   "metadata": {},
   "source": [
    "Q8. What are the values of the following expressions?\n",
    "\n",
    "&#39;Remember, remember, the fifth of July.&#39;.split()\n",
    "\n",
    "&#39;-&#39;.join(&#39;There can only one.&#39;.split())"
   ]
  },
  {
   "cell_type": "code",
   "execution_count": null,
   "id": "8333bc03",
   "metadata": {},
   "outputs": [],
   "source": [
    "'Remember, remember, the fifth of July.'.split()  -> ['Remember,', 'remember,', 'the', 'fifth', 'of', 'July.']\n",
    "\n",
    "'-'.join('There can only one.'.split()) -> 'There-can-only-one.'"
   ]
  },
  {
   "cell_type": "markdown",
   "id": "2ad149f9",
   "metadata": {},
   "source": [
    "Q9. What are the methods for right-justifying, left-justifying, and centering a string?"
   ]
  },
  {
   "cell_type": "code",
   "execution_count": null,
   "id": "ccc143fe",
   "metadata": {},
   "outputs": [],
   "source": [
    "rjust() is used to align text in the right\n",
    "ljust() is used to align text in the left\n",
    "center() is used to align text in the center\n",
    "\n",
    "number is needed to give as a parameter"
   ]
  },
  {
   "cell_type": "markdown",
   "id": "118ed458",
   "metadata": {},
   "source": [
    "Q10. What is the best way to remove whitespace characters from the start or end?"
   ]
  },
  {
   "cell_type": "code",
   "execution_count": null,
   "id": "56cbd4dd",
   "metadata": {},
   "outputs": [],
   "source": [
    "strip() method of string is used to remove the whitespace from the start and end."
   ]
  },
  {
   "cell_type": "code",
   "execution_count": 32,
   "id": "f28c11d6",
   "metadata": {},
   "outputs": [
    {
     "data": {
      "text/plain": [
       "'sdf     here        sfdd'"
      ]
     },
     "execution_count": 32,
     "metadata": {},
     "output_type": "execute_result"
    }
   ],
   "source": [
    "'        sdf     here        sfdd              '.strip()"
   ]
  },
  {
   "cell_type": "code",
   "execution_count": null,
   "id": "53345a4e",
   "metadata": {},
   "outputs": [],
   "source": []
  }
 ],
 "metadata": {
  "kernelspec": {
   "display_name": "Python 3 (ipykernel)",
   "language": "python",
   "name": "python3"
  },
  "language_info": {
   "codemirror_mode": {
    "name": "ipython",
    "version": 3
   },
   "file_extension": ".py",
   "mimetype": "text/x-python",
   "name": "python",
   "nbconvert_exporter": "python",
   "pygments_lexer": "ipython3",
   "version": "3.9.12"
  }
 },
 "nbformat": 4,
 "nbformat_minor": 5
}
